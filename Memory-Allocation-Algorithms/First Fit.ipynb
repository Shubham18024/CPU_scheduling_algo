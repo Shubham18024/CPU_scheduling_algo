{
 "cells": [
  {
   "cell_type": "code",
   "execution_count": null,
   "id": "81f62718",
   "metadata": {},
   "outputs": [],
   "source": [
    "'''Implementation:\n",
    "1- Prompt the user to enter the number of memory blocks and their sizes.\n",
    "2- Prompt the user to enter the number of processes and their sizes.\n",
    "3- Store each memory block's size in a dictionary, initializing all blocks as available for allocation.\n",
    "4- Check each memory block to see if it has sufficient size to accommodate the process.\n",
    "5- If a memory block's size is <= the process size, allocate the block to the process.\n",
    "6- Update the size of the memory block by subtracting the allocated process size.\n",
    "7- If no suitable block is found, mark the process as \"Not Allocated.\" '''"
   ]
  },
  {
   "cell_type": "code",
   "execution_count": 5,
   "id": "a4e0d4b8",
   "metadata": {},
   "outputs": [
    {
     "name": "stdout",
     "output_type": "stream",
     "text": [
      "Enter the number of memory blocks: 5\n",
      "Enter the size of Memory Block B1: 100\n",
      "Enter the size of Memory Block B2: 500\n",
      "Enter the size of Memory Block B3: 200\n",
      "Enter the size of Memory Block B4: 300\n",
      "Enter the size of Memory Block B5: 600\n",
      "Enter the number of processes: 4\n",
      "Enter the size of Process P1: 212\n",
      "Enter the size of Process P2: 417\n",
      "Enter the size of Process P3: 112\n",
      "Enter the size of Process P4: 426\n",
      "\n",
      "Implementation of First-Fit algorithm : \n",
      "\n",
      "Process ID\tProcess Size\tBlock ID\n",
      "1\t\t212\t\tB2\n",
      "2\t\t417\t\tB5\n",
      "3\t\t112\t\tB2\n",
      "4\t\t426\t\tFailed to allocate\n"
     ]
    }
   ],
   "source": [
    "def get_memory_blocks():\n",
    "    num_blocks = int(input(\"Enter the number of memory blocks: \"))\n",
    "    memory_block = {}\n",
    "    for i in range(num_blocks):\n",
    "        block_id = f\"B{i+1}\"\n",
    "        block_size = int(input(f\"Enter the size of Memory Block {block_id}: \"))\n",
    "        memory_block[block_id] = [block_size]\n",
    "    return memory_block\n",
    "\n",
    "def get_processes():\n",
    "    num_pro = int(input(\"Enter the number of processes: \"))\n",
    "    process = []\n",
    "    for i in range(num_pro):\n",
    "        process_size = int(input(f\"Enter the size of Process P{i+1}: \"))\n",
    "        process.append(process_size)\n",
    "    return process\n",
    "\n",
    "def allocate_memory(memory_block, process):\n",
    "    allocation = {}\n",
    "    for i, p in enumerate(process):\n",
    "        allocated = False\n",
    "        for key, value in memory_block.items():\n",
    "            if p <= value[0]:\n",
    "                allocation[i+1] = key  # Allocate process to memory block\n",
    "                memory_block[key][0] -= p  # Reduce block size\n",
    "                allocated = True\n",
    "                break\n",
    "        if not allocated:\n",
    "            allocation[i+1] = \"Failed to allocate\" \n",
    "    return allocation\n",
    "\n",
    "def print_allocation(process, allocation):\n",
    "    print(\"\\nImplementation of First-Fit algorithm : \")  \n",
    "    print(\"\\nProcess ID\\tProcess Size\\tBlock ID\")\n",
    "    for i, p in enumerate(process):\n",
    "        print(f\"{i+1}\\t\\t{p}\\t\\t{allocation[i+1]}\")\n",
    "\n",
    "def main():\n",
    "    memory_block = get_memory_blocks()\n",
    "    process = get_processes()\n",
    "    allocation = allocate_memory(memory_block, process)\n",
    "    print_allocation(process, allocation)\n",
    "\n",
    "if __name__ == \"__main__\":\n",
    "    main()"
   ]
  },
  {
   "cell_type": "code",
   "execution_count": null,
   "id": "7fc6c0fc",
   "metadata": {},
   "outputs": [],
   "source": []
  },
  {
   "cell_type": "code",
   "execution_count": null,
   "id": "998bca21",
   "metadata": {},
   "outputs": [],
   "source": []
  }
 ],
 "metadata": {
  "kernelspec": {
   "display_name": "Python 3 (ipykernel)",
   "language": "python",
   "name": "python3"
  },
  "language_info": {
   "codemirror_mode": {
    "name": "ipython",
    "version": 3
   },
   "file_extension": ".py",
   "mimetype": "text/x-python",
   "name": "python",
   "nbconvert_exporter": "python",
   "pygments_lexer": "ipython3",
   "version": "3.11.1"
  }
 },
 "nbformat": 4,
 "nbformat_minor": 5
}
